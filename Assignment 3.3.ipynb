{
 "cells": [
  {
   "cell_type": "code",
   "execution_count": 2,
   "metadata": {},
   "outputs": [
    {
     "name": "stdout",
     "output_type": "stream",
     "text": [
      "The longest word in the list is: Anilkumar\n"
     ]
    }
   ],
   "source": [
    "def longestword(listofwords):\n",
    "    \n",
    "    longestword=\"\"\n",
    "    \n",
    "    for eachword in listofwords:\n",
    "        \n",
    "               \n",
    "        if len(longestword) < len(str(eachword)):\n",
    "            longestword = str(eachword)\n",
    "            \n",
    "    return longestword\n",
    "\n",
    "inputlist = ['Anilkumar','Anil','Ani']\n",
    "\n",
    "print(\"The longest word in the list is:\",longestword(inputlist))"
   ]
  },
  {
   "cell_type": "code",
   "execution_count": null,
   "metadata": {
    "collapsed": true
   },
   "outputs": [],
   "source": []
  }
 ],
 "metadata": {
  "kernelspec": {
   "display_name": "Python 3",
   "language": "python",
   "name": "python3"
  },
  "language_info": {
   "codemirror_mode": {
    "name": "ipython",
    "version": 3
   },
   "file_extension": ".py",
   "mimetype": "text/x-python",
   "name": "python",
   "nbconvert_exporter": "python",
   "pygments_lexer": "ipython3",
   "version": "3.6.3"
  }
 },
 "nbformat": 4,
 "nbformat_minor": 2
}
